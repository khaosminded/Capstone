{
 "cells": [
  {
   "cell_type": "markdown",
   "metadata": {},
   "source": [
    "## cd into each folder..."
   ]
  },
  {
   "cell_type": "code",
   "execution_count": 85,
   "metadata": {},
   "outputs": [],
   "source": [
    "import os\n",
    "import csv\n",
    "def collecter(filename):\n",
    "    a=os.popen('ls ../../cleandata/./').read()\n",
    "    a=a.strip().split('\\n')\n",
    "    needHeader=False\n",
    "    if not os.path.isfile('../../cleandata/data/'+filename):\n",
    "        needHeader=True\n",
    "        os.system('mkdir ../../cleandata/data')\n",
    "    f=open('../../cleandata/data/'+filename,'a')\n",
    "    writer=csv.writer(f)\n",
    "    for eachdir in a:\n",
    "        if 'ubuntu' in eachdir:\n",
    "            #print(eachdir)\n",
    "            path='../../cleandata/'+eachdir+'/'+filename\n",
    "            with open(path,'r') as f:\n",
    "                reader=csv.reader(f)\n",
    "                if needHeader is True:\n",
    "                    needHeader=False\n",
    "                    writer.writerow(next(reader))\n",
    "                else:\n",
    "                    next(reader)\n",
    "                for row in reader:\n",
    "                    writer.writerow(row)\n",
    "    f.close() \n",
    "    \n",
    "collecter('y_cruncher.csv')"
   ]
  },
  {
   "cell_type": "code",
   "execution_count": 87,
   "metadata": {},
   "outputs": [],
   "source": [
    "a=123"
   ]
  },
  {
   "cell_type": "code",
   "execution_count": 88,
   "metadata": {},
   "outputs": [
    {
     "name": "stdout",
     "output_type": "stream",
     "text": [
      "123\n"
     ]
    }
   ],
   "source": [
    "print(a)"
   ]
  },
  {
   "cell_type": "code",
   "execution_count": 19,
   "metadata": {},
   "outputs": [
    {
     "name": "stdout",
     "output_type": "stream",
     "text": [
      "2018-05-08 07:13:57.0404122018-05-08 07:13:57.040561\n",
      "\n",
      "2018-05-08 07:13:57.043250\n",
      "2018-05-08 07:13:57.0466392018-05-08 07:13:57.046743\n",
      "\n",
      "2018-05-08 07:13:58.0425082018-05-08 07:13:58.042720\n",
      "\n",
      "2018-05-08 07:13:58.043834\n",
      "2018-05-08 07:13:58.0524622018-05-08 07:13:58.052613\n",
      "\n",
      "2018-05-08 07:13:59.0464692018-05-08 07:13:59.0464052018-05-08 07:13:59.046259\n",
      "\n",
      "\n",
      "2018-05-08 07:13:59.053971\n",
      "2018-05-08 07:13:59.054126\n"
     ]
    }
   ],
   "source": [
    "import threading\n",
    "import datetime,time\n",
    "def loop():\n",
    "    for i in range(10):\n",
    "\n",
    "        time.sleep(1)\n",
    "for i in range(5):\n",
    "    t = threading.Thread(target=loop, name='LoopThread')\n",
    "    t.start()\n",
    "\n",
    "\n",
    "\n"
   ]
  },
  {
   "cell_type": "code",
   "execution_count": 27,
   "metadata": {},
   "outputs": [
    {
     "name": "stdout",
     "output_type": "stream",
     "text": [
      "name>>adsvf  :0name>>rtt  :0name>>ooo  :0\n",
      "name>>adsfadf  :0\n",
      "\n",
      "\n",
      "name>>ooo  :1name>>adsfadf  :1\n",
      "name>>rtt  :1name>>adsvf  :1\n",
      "\n",
      "\n",
      "name>>ooo  :2name>>rtt  :2name>>adsvf  :2\n",
      "\n",
      "name>>adsfadf  :2\n",
      "\n",
      "name>>adsvf  :3name>>ooo  :3name>>rtt  :3name>>adsfadf  :3\n",
      "\n",
      "\n",
      "\n",
      "name>>ooo  :4name>>adsvf  :4name>>rtt  :4\n",
      "\n",
      "\n",
      "name>>adsfadf  :4\n",
      "NBending\n"
     ]
    }
   ],
   "source": [
    "import threading\n",
    "import time\n",
    "hostlist=['adsfadf','adsvf','rtt','ooo']\n",
    "threadlist=[]\n",
    "for host in hostlist:\n",
    "    wholecommand=host\n",
    "    def func(i):\n",
    "        def run():\n",
    "            for j in range(5):\n",
    "                time.sleep(1)\n",
    "                print(\"name>>%s  :%s\" % (threading.current_thread().name,j))\n",
    "        return threading.Thread(target=run,name=i)\n",
    "    threadlist.append(func(wholecommand))\n",
    "for threads in threadlist:\n",
    "    threads.start()\n",
    "for threads in threadlist:\n",
    "    threads.join()\n",
    "    \n",
    "print('NBending')"
   ]
  },
  {
   "cell_type": "code",
   "execution_count": null,
   "metadata": {},
   "outputs": [],
   "source": []
  }
 ],
 "metadata": {
  "kernelspec": {
   "display_name": "Python 3",
   "language": "python",
   "name": "python3"
  },
  "language_info": {
   "codemirror_mode": {
    "name": "ipython",
    "version": 3
   },
   "file_extension": ".py",
   "mimetype": "text/x-python",
   "name": "python",
   "nbconvert_exporter": "python",
   "pygments_lexer": "ipython3",
   "version": "3.6.3"
  }
 },
 "nbformat": 4,
 "nbformat_minor": 2
}
