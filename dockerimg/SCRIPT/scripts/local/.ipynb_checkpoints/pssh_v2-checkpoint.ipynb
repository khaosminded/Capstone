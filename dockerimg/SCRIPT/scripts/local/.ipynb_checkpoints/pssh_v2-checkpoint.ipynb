{
 "cells": [
  {
   "cell_type": "code",
   "execution_count": 43,
   "metadata": {},
   "outputs": [],
   "source": [
    "import os\n",
    "import threading\n",
    "import csv\n",
    "import datetime\n",
    "from dateutil.relativedelta import relativedelta"
   ]
  },
  {
   "cell_type": "code",
   "execution_count": 14,
   "metadata": {},
   "outputs": [
    {
     "name": "stdout",
     "output_type": "stream",
     "text": [
      "[1] 19:53:00 [SUCCESS] ubuntu@35.153.100.21\n",
      "Agent pid 10844\n",
      "Stderr: Identity added: /home/ubuntu/.ssh/git_capstone (/home/ubuntu/.ssh/git_capstone)\n",
      "Cloning into 'Capstone'...\n",
      "[2] 19:53:00 [SUCCESS] ubuntu@54.145.62.116\n",
      "Agent pid 11058\n",
      "Stderr: Identity added: /home/ubuntu/.ssh/git_capstone (/home/ubuntu/.ssh/git_capstone)\n",
      "Cloning into 'Capstone'...\n",
      "[3] 19:53:00 [SUCCESS] ubuntu@54.144.9.8\n",
      "Agent pid 10378\n",
      "Stderr: Identity added: /home/ubuntu/.ssh/git_capstone (/home/ubuntu/.ssh/git_capstone)\n",
      "Cloning into 'Capstone'...\n",
      "[4] 19:53:00 [SUCCESS] ubuntu@54.172.66.92\n",
      "Agent pid 10792\n",
      "Stderr: Identity added: /home/ubuntu/.ssh/git_capstone (/home/ubuntu/.ssh/git_capstone)\n",
      "Cloning into 'Capstone'...\n",
      "[5] 19:53:00 [SUCCESS] ubuntu@54.242.12.78\n",
      "Agent pid 10732\n",
      "Stderr: Identity added: /home/ubuntu/.ssh/git_capstone (/home/ubuntu/.ssh/git_capstone)\n",
      "Cloning into 'Capstone'...\n",
      "\n"
     ]
    }
   ],
   "source": [
    "def pssh_v2():\n",
    "    #override pssh when doing 1to16 dedicated host experiment\n",
    "    with open('hostfile_pssh','r') as f:\n",
    "        hostlist=f.read()\n",
    "        hostlist=hostlist.strip().split('\\n')\n",
    "    datadir=':~/'\n",
    "    command ='scp -i as0.pem -r ./crontab '\n",
    "    threadlist=[]\n",
    "    for host in hostlist:\n",
    "        wholecommand=command+host+datadir\n",
    "        def func(i):\n",
    "            def run():\n",
    "                os.system(i)\n",
    "            return threading.Thread(target=run,name=i)\n",
    "        threadlist.append(func(wholecommand))\n",
    "    for threads in threadlist:\n",
    "        threads.start()\n",
    "    for threads in threadlist:\n",
    "        threads.join()\n",
    "    \n",
    "    shell=r'''\n",
    "    psshcommand='sudo mv ~/crontab /etc/crontab && sudo chown root.root /etc/crontab && sudo service cron reload'\n",
    "    pssh -i -h hostfile_pssh -x \"-i ~/.ssh/as0.pem\" $psshcommand\n",
    "    '''\n",
    "    respond=os.popen(shell).read()\n",
    "def cloneGitRepo():\n",
    "    shell=r'''\n",
    "    psshcommand='eval \"$(ssh-agent -s)\" && ssh-add -k ~/.ssh/git_capstone && rm -rf Capstone SCRIPT && git clone git@github.com:khaosminded/Capstone.git && mv Capstone SCRIPT'\n",
    "    pssh -i -h hostfile_pssh -x \"-i ~/.ssh/as0.pem\" $psshcommand\n",
    "    '''\n",
    "    respond=os.popen(shell).read()\n",
    "    print(respond)\n",
    "    \n",
    "#pssh_v2()\n",
    "cloneGitRepo()"
   ]
  },
  {
   "cell_type": "code",
   "execution_count": 32,
   "metadata": {},
   "outputs": [
    {
     "name": "stdout",
     "output_type": "stream",
     "text": [
      "# /etc/crontab: system-wide crontab\n",
      "# Unlike any other crontab you don't have to run the `crontab'\n",
      "# command to install the new version when you edit this file\n",
      "# and files in /etc/cron.d. These files also have username fields,\n",
      "# that none of the other crontabs do.\n",
      "\n",
      "SHELL=/bin/sh\n",
      "PATH=/usr/local/sbin:/usr/local/bin:/sbin:/bin:/usr/sbin:/usr/bin\n",
      "\n",
      "# m h dom mon dow user\tcommand\n",
      "17 *\t* * *\troot    cd / && run-parts --report /etc/cron.hourly\n",
      "25 6\t* * *\troot\ttest -x /usr/sbin/anacron || ( cd / && run-parts --report /etc/cron.daily )\n",
      "47 6\t* * 7\troot\ttest -x /usr/sbin/anacron || ( cd / && run-parts --report /etc/cron.weekly )\n",
      "52 6\t1 * *\troot\ttest -x /usr/sbin/anacron || ( cd / && run-parts --report /etc/cron.monthly )\n",
      "#\n",
      "123\n",
      "* * * * * ubuntu python3  ~/SCRIPT/scripts/remote/run.py -c 10 id\n",
      "* * * * * ubuntu python3  ~/SCRIPT/scripts/remote/run.py -c 10 id\n",
      "\n"
     ]
    }
   ],
   "source": [
    "os.system('''set -f && echo \"* * * * * ubuntu python3  ~/SCRIPT/scripts/remote/run.py -c 10 id\">>crontab''')\n",
    "print(os.popen('cat crontab').read())"
   ]
  },
  {
   "cell_type": "code",
   "execution_count": 34,
   "metadata": {},
   "outputs": [
    {
     "name": "stdout",
     "output_type": "stream",
     "text": [
      "# /etc/crontab: system-wide crontab\n",
      "# Unlike any other crontab you don't have to run the `crontab'\n",
      "# command to install the new version when you edit this file\n",
      "# and files in /etc/cron.d. These files also have username fields,\n",
      "# that none of the other crontabs do.\n",
      "\n",
      "SHELL=/bin/sh\n",
      "PATH=/usr/local/sbin:/usr/local/bin:/sbin:/bin:/usr/sbin:/usr/bin\n",
      "\n",
      "# m h dom mon dow user\tcommand\n",
      "17 *\t* * *\troot    cd / && run-parts --report /etc/cron.hourly\n",
      "25 6\t* * *\troot\ttest -x /usr/sbin/anacron || ( cd / && run-parts --report /etc/cron.daily )\n",
      "47 6\t* * 7\troot\ttest -x /usr/sbin/anacron || ( cd / && run-parts --report /etc/cron.weekly )\n",
      "52 6\t1 * *\troot\ttest -x /usr/sbin/anacron || ( cd / && run-parts --report /etc/cron.monthly )\n",
      "#\n",
      "123\n",
      "* * * * * ubuntu python3  ~/SCRIPT/scripts/remote/run.py -c 10 id\n",
      "* * * * * ubuntu python3  ~/SCRIPT/scripts/remote/run.py -c 10 id\n",
      "minute hour day * * ubuntu python3  ~/SCRIPT/scripts/remote/run.py -c cycles -i exp_id\n",
      "minute hour day * * ubuntu python3  ~/SCRIPT/scripts/remote/run.py -c cycles -i exp_id\n",
      "\n"
     ]
    }
   ],
   "source": [
    "cronline='''set -f &&\n",
    "    echo \"'''+'minute'+\" \"+'hour'+\" \"+'day'+''' * * ubuntu python3  ~/SCRIPT/scripts/remote/run.py -c '''+'cycles'+' -i ' +'exp_id'+'''\" >> crontab'''\n",
    "os.system(cronline)\n",
    "print(os.popen('cat crontab').read())"
   ]
  },
  {
   "cell_type": "code",
   "execution_count": 64,
   "metadata": {},
   "outputs": [
    {
     "name": "stdout",
     "output_type": "stream",
     "text": [
      "24\n"
     ]
    }
   ],
   "source": [
    "def test(date=datetime.datetime.utcnow()+relativedelta(days=5)):\n",
    "    date+=relativedelta(days=5)\n",
    "    print(date.day)\n",
    "test()"
   ]
  },
  {
   "cell_type": "code",
   "execution_count": 63,
   "metadata": {},
   "outputs": [
    {
     "name": "stdout",
     "output_type": "stream",
     "text": [
      " 1 2 3\n",
      " 2 3\n",
      " 3\n"
     ]
    }
   ],
   "source": [
    "l=['1','2','3']\n",
    "for i in range(len(l)):\n",
    "    listj=''\n",
    "    for j in l[i:]:\n",
    "        listj+=' '+j\n",
    "    print(listj)    "
   ]
  },
  {
   "cell_type": "code",
   "execution_count": 67,
   "metadata": {},
   "outputs": [
    {
     "name": "stdout",
     "output_type": "stream",
     "text": [
      "['ubuntu@54.172.66.92', 'ubuntu@54.145.62.116', 'ubuntu@54.144.9.8', 'ubuntu@54.242.12.78', 'ubuntu@35.153.100.21']\n",
      "ubuntu@54.172.66.92 ubuntu@54.145.62.116 ubuntu@54.144.9.8 ubuntu@54.242.12.78 ubuntu@35.153.100.21 \n",
      "ubuntu@54.145.62.116 ubuntu@54.144.9.8 ubuntu@54.242.12.78 ubuntu@35.153.100.21 \n",
      "ubuntu@54.144.9.8 ubuntu@54.242.12.78 ubuntu@35.153.100.21 \n",
      "ubuntu@54.242.12.78 ubuntu@35.153.100.21 \n",
      "ubuntu@35.153.100.21 \n"
     ]
    }
   ],
   "source": [
    "\n",
    "hostlist=[]\n",
    "with open('hostfile_pssh','r') as f:\n",
    "    hostlist=f.read()\n",
    "    hostlist=hostlist.strip().split('\\n')\n",
    "print(hostlist)\n",
    "\n",
    "for i in range(len(hostlist)):\n",
    "    HOST_STRING=''\n",
    "    for host in hostlist[i:]:\n",
    "        HOST_STRING+=host+' '\n",
    "    print(getPssh)\n",
    "    "
   ]
  },
  {
   "cell_type": "code",
   "execution_count": null,
   "metadata": {},
   "outputs": [],
   "source": []
  }
 ],
 "metadata": {
  "kernelspec": {
   "display_name": "Python 3",
   "language": "python",
   "name": "python3"
  },
  "language_info": {
   "codemirror_mode": {
    "name": "ipython",
    "version": 3
   },
   "file_extension": ".py",
   "mimetype": "text/x-python",
   "name": "python",
   "nbconvert_exporter": "python",
   "pygments_lexer": "ipython3",
   "version": "3.6.3"
  }
 },
 "nbformat": 4,
 "nbformat_minor": 2
}
