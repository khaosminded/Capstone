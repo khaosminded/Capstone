{
 "cells": [
  {
   "cell_type": "markdown",
   "metadata": {},
   "source": [
    "### import data"
   ]
  },
  {
   "cell_type": "code",
   "execution_count": 4,
   "metadata": {},
   "outputs": [],
   "source": [
    "NAMES <- read.table(\"./pgbench_16*c4.large_60s_1to16.csv\", nrow = 1, stringsAsFactors = FALSE, sep = \",\")\n",
    "DATA <- read.table(\"./pgbench_16*c4.large_60s_1to16.csv\", skip = 1, stringsAsFactors = FALSE, sep = \",\")\n",
    "names(DATA) <- NAMES \n",
    "data=DATA[,c('instanceID','wallTime','clients','threads','duration','transactions')]\n"
   ]
  },
  {
   "cell_type": "markdown",
   "metadata": {},
   "source": [
    "### sort instanceID by overall comutationTime\n",
    "### cause we know that tasks on every VM are 10 runs apart"
   ]
  },
  {
   "cell_type": "code",
   "execution_count": 6,
   "metadata": {},
   "outputs": [
    {
     "data": {
      "text/html": [
       "<ol class=list-inline>\n",
       "\t<li>'i-0629fca2b4de7b9a1'</li>\n",
       "\t<li>'i-00d14cee1fcf9f0c9'</li>\n",
       "\t<li>'i-0dad89950d3beb598'</li>\n",
       "\t<li>'i-0050a5948a2ad13c6'</li>\n",
       "\t<li>'i-0b86e138d9b800d3f'</li>\n",
       "\t<li>'i-0ac7501019866fc6f'</li>\n",
       "\t<li>'i-0cd75c6739d29ff62'</li>\n",
       "\t<li>'i-08228bbd71aee93ea'</li>\n",
       "\t<li>'i-03f7a29cee89b5b4c'</li>\n",
       "\t<li>'i-00b55946684109933'</li>\n",
       "\t<li>'i-09c2aac4490d11677'</li>\n",
       "\t<li>'i-08bde527ed885db51'</li>\n",
       "\t<li>'i-0986220ea92279c65'</li>\n",
       "\t<li>'i-0073d2744d662d0d0'</li>\n",
       "\t<li>'i-0675746e5a509330f'</li>\n",
       "\t<li>'i-0be78724cd4e7adcc'</li>\n",
       "</ol>\n"
      ],
      "text/latex": [
       "\\begin{enumerate*}\n",
       "\\item 'i-0629fca2b4de7b9a1'\n",
       "\\item 'i-00d14cee1fcf9f0c9'\n",
       "\\item 'i-0dad89950d3beb598'\n",
       "\\item 'i-0050a5948a2ad13c6'\n",
       "\\item 'i-0b86e138d9b800d3f'\n",
       "\\item 'i-0ac7501019866fc6f'\n",
       "\\item 'i-0cd75c6739d29ff62'\n",
       "\\item 'i-08228bbd71aee93ea'\n",
       "\\item 'i-03f7a29cee89b5b4c'\n",
       "\\item 'i-00b55946684109933'\n",
       "\\item 'i-09c2aac4490d11677'\n",
       "\\item 'i-08bde527ed885db51'\n",
       "\\item 'i-0986220ea92279c65'\n",
       "\\item 'i-0073d2744d662d0d0'\n",
       "\\item 'i-0675746e5a509330f'\n",
       "\\item 'i-0be78724cd4e7adcc'\n",
       "\\end{enumerate*}\n"
      ],
      "text/markdown": [
       "1. 'i-0629fca2b4de7b9a1'\n",
       "2. 'i-00d14cee1fcf9f0c9'\n",
       "3. 'i-0dad89950d3beb598'\n",
       "4. 'i-0050a5948a2ad13c6'\n",
       "5. 'i-0b86e138d9b800d3f'\n",
       "6. 'i-0ac7501019866fc6f'\n",
       "7. 'i-0cd75c6739d29ff62'\n",
       "8. 'i-08228bbd71aee93ea'\n",
       "9. 'i-03f7a29cee89b5b4c'\n",
       "10. 'i-00b55946684109933'\n",
       "11. 'i-09c2aac4490d11677'\n",
       "12. 'i-08bde527ed885db51'\n",
       "13. 'i-0986220ea92279c65'\n",
       "14. 'i-0073d2744d662d0d0'\n",
       "15. 'i-0675746e5a509330f'\n",
       "16. 'i-0be78724cd4e7adcc'\n",
       "\n",
       "\n"
      ],
      "text/plain": [
       " [1] \"i-0629fca2b4de7b9a1\" \"i-00d14cee1fcf9f0c9\" \"i-0dad89950d3beb598\"\n",
       " [4] \"i-0050a5948a2ad13c6\" \"i-0b86e138d9b800d3f\" \"i-0ac7501019866fc6f\"\n",
       " [7] \"i-0cd75c6739d29ff62\" \"i-08228bbd71aee93ea\" \"i-03f7a29cee89b5b4c\"\n",
       "[10] \"i-00b55946684109933\" \"i-09c2aac4490d11677\" \"i-08bde527ed885db51\"\n",
       "[13] \"i-0986220ea92279c65\" \"i-0073d2744d662d0d0\" \"i-0675746e5a509330f\"\n",
       "[16] \"i-0be78724cd4e7adcc\""
      ]
     },
     "metadata": {},
     "output_type": "display_data"
    },
    {
     "data": {
      "text/html": [
       "<table>\n",
       "<thead><tr><th></th><th scope=col>instanceID</th><th scope=col>wallTime</th></tr></thead>\n",
       "<tbody>\n",
       "\t<tr><th scope=row>6</th><td>i-0629fca2b4de7b9a1</td><td>3974.9156          </td></tr>\n",
       "\t<tr><th scope=row>4</th><td>i-00d14cee1fcf9f0c9</td><td>3612.3947          </td></tr>\n",
       "\t<tr><th scope=row>16</th><td>i-0dad89950d3beb598</td><td>3250.7612          </td></tr>\n",
       "\t<tr><th scope=row>1</th><td>i-0050a5948a2ad13c6</td><td>2890.8113          </td></tr>\n",
       "\t<tr><th scope=row>13</th><td>i-0b86e138d9b800d3f</td><td>2526.9432          </td></tr>\n",
       "\t<tr><th scope=row>12</th><td>i-0ac7501019866fc6f</td><td>2168.3503          </td></tr>\n",
       "\t<tr><th scope=row>15</th><td>i-0cd75c6739d29ff62</td><td>1806.0421          </td></tr>\n",
       "\t<tr><th scope=row>8</th><td>i-08228bbd71aee93ea</td><td>1565.7628          </td></tr>\n",
       "\t<tr><th scope=row>5</th><td>i-03f7a29cee89b5b4c</td><td>1384.2642          </td></tr>\n",
       "\t<tr><th scope=row>3</th><td>i-00b55946684109933</td><td>1203.8178          </td></tr>\n",
       "\t<tr><th scope=row>11</th><td>i-09c2aac4490d11677</td><td>1023.5626          </td></tr>\n",
       "\t<tr><th scope=row>9</th><td>i-08bde527ed885db51</td><td> 843.5897          </td></tr>\n",
       "\t<tr><th scope=row>10</th><td>i-0986220ea92279c65</td><td> 662.6729          </td></tr>\n",
       "\t<tr><th scope=row>2</th><td>i-0073d2744d662d0d0</td><td> 482.3864          </td></tr>\n",
       "\t<tr><th scope=row>7</th><td>i-0675746e5a509330f</td><td> 301.0765          </td></tr>\n",
       "\t<tr><th scope=row>14</th><td>i-0be78724cd4e7adcc</td><td> 120.7321          </td></tr>\n",
       "</tbody>\n",
       "</table>\n"
      ],
      "text/latex": [
       "\\begin{tabular}{r|ll}\n",
       "  & instanceID & wallTime\\\\\n",
       "\\hline\n",
       "\t6 & i-0629fca2b4de7b9a1 & 3974.9156          \\\\\n",
       "\t4 & i-00d14cee1fcf9f0c9 & 3612.3947          \\\\\n",
       "\t16 & i-0dad89950d3beb598 & 3250.7612          \\\\\n",
       "\t1 & i-0050a5948a2ad13c6 & 2890.8113          \\\\\n",
       "\t13 & i-0b86e138d9b800d3f & 2526.9432          \\\\\n",
       "\t12 & i-0ac7501019866fc6f & 2168.3503          \\\\\n",
       "\t15 & i-0cd75c6739d29ff62 & 1806.0421          \\\\\n",
       "\t8 & i-08228bbd71aee93ea & 1565.7628          \\\\\n",
       "\t5 & i-03f7a29cee89b5b4c & 1384.2642          \\\\\n",
       "\t3 & i-00b55946684109933 & 1203.8178          \\\\\n",
       "\t11 & i-09c2aac4490d11677 & 1023.5626          \\\\\n",
       "\t9 & i-08bde527ed885db51 &  843.5897          \\\\\n",
       "\t10 & i-0986220ea92279c65 &  662.6729          \\\\\n",
       "\t2 & i-0073d2744d662d0d0 &  482.3864          \\\\\n",
       "\t7 & i-0675746e5a509330f &  301.0765          \\\\\n",
       "\t14 & i-0be78724cd4e7adcc &  120.7321          \\\\\n",
       "\\end{tabular}\n"
      ],
      "text/markdown": [
       "\n",
       "| <!--/--> | instanceID | wallTime | \n",
       "|---|---|---|---|---|---|---|---|---|---|---|---|---|---|---|---|\n",
       "| 6 | i-0629fca2b4de7b9a1 | 3974.9156           | \n",
       "| 4 | i-00d14cee1fcf9f0c9 | 3612.3947           | \n",
       "| 16 | i-0dad89950d3beb598 | 3250.7612           | \n",
       "| 1 | i-0050a5948a2ad13c6 | 2890.8113           | \n",
       "| 13 | i-0b86e138d9b800d3f | 2526.9432           | \n",
       "| 12 | i-0ac7501019866fc6f | 2168.3503           | \n",
       "| 15 | i-0cd75c6739d29ff62 | 1806.0421           | \n",
       "| 8 | i-08228bbd71aee93ea | 1565.7628           | \n",
       "| 5 | i-03f7a29cee89b5b4c | 1384.2642           | \n",
       "| 3 | i-00b55946684109933 | 1203.8178           | \n",
       "| 11 | i-09c2aac4490d11677 | 1023.5626           | \n",
       "| 9 | i-08bde527ed885db51 |  843.5897           | \n",
       "| 10 | i-0986220ea92279c65 |  662.6729           | \n",
       "| 2 | i-0073d2744d662d0d0 |  482.3864           | \n",
       "| 7 | i-0675746e5a509330f |  301.0765           | \n",
       "| 14 | i-0be78724cd4e7adcc |  120.7321           | \n",
       "\n",
       "\n"
      ],
      "text/plain": [
       "   instanceID          wallTime \n",
       "6  i-0629fca2b4de7b9a1 3974.9156\n",
       "4  i-00d14cee1fcf9f0c9 3612.3947\n",
       "16 i-0dad89950d3beb598 3250.7612\n",
       "1  i-0050a5948a2ad13c6 2890.8113\n",
       "13 i-0b86e138d9b800d3f 2526.9432\n",
       "12 i-0ac7501019866fc6f 2168.3503\n",
       "15 i-0cd75c6739d29ff62 1806.0421\n",
       "8  i-08228bbd71aee93ea 1565.7628\n",
       "5  i-03f7a29cee89b5b4c 1384.2642\n",
       "3  i-00b55946684109933 1203.8178\n",
       "11 i-09c2aac4490d11677 1023.5626\n",
       "9  i-08bde527ed885db51  843.5897\n",
       "10 i-0986220ea92279c65  662.6729\n",
       "2  i-0073d2744d662d0d0  482.3864\n",
       "7  i-0675746e5a509330f  301.0765\n",
       "14 i-0be78724cd4e7adcc  120.7321"
      ]
     },
     "metadata": {},
     "output_type": "display_data"
    }
   ],
   "source": [
    "sum=aggregate(x=data[\"wallTime\"],\n",
    "          by=list(instanceID=DATA$instanceID),\n",
    "          FUN=sum\n",
    "         )\n",
    "sorted=sum[order(sum$wallTime,decreasing=T),] \n",
    "sortedInstanceID=sorted$instanceID\n",
    "sortedInstanceID\n",
    "sorted"
   ]
  },
  {
   "cell_type": "code",
   "execution_count": 85,
   "metadata": {},
   "outputs": [
    {
     "data": {
      "text/html": [
       "<ol class=list-inline>\n",
       "\t<li>48848</li>\n",
       "\t<li>67021</li>\n",
       "</ol>\n"
      ],
      "text/latex": [
       "\\begin{enumerate*}\n",
       "\\item 48848\n",
       "\\item 67021\n",
       "\\end{enumerate*}\n"
      ],
      "text/markdown": [
       "1. 48848\n",
       "2. 67021\n",
       "\n",
       "\n"
      ],
      "text/plain": [
       "[1] 48848 67021"
      ]
     },
     "metadata": {},
     "output_type": "display_data"
    },
    {
     "data": {
      "text/html": [
       "0.271153817460199"
      ],
      "text/latex": [
       "0.271153817460199"
      ],
      "text/markdown": [
       "0.271153817460199"
      ],
      "text/plain": [
       "[1] 0.2711538"
      ]
     },
     "metadata": {},
     "output_type": "display_data"
    },
    {
     "data": {
      "text/html": [
       "0.316651099256687"
      ],
      "text/latex": [
       "0.316651099256687"
      ],
      "text/markdown": [
       "0.316651099256687"
      ],
      "text/plain": [
       "[1] 0.3166511"
      ]
     },
     "metadata": {},
     "output_type": "display_data"
    },
    {
     "name": "stdout",
     "output_type": "stream",
     "text": [
      "[1] \"95th 64696.7\"\n"
     ]
    },
    {
     "data": {
      "text/html": [
       "0.244969217904468"
      ],
      "text/latex": [
       "0.244969217904468"
      ],
      "text/markdown": [
       "0.244969217904468"
      ],
      "text/plain": [
       "[1] 0.2449692"
      ]
     },
     "metadata": {},
     "output_type": "display_data"
    }
   ],
   "source": [
    "set=data[c('transactions')]\n",
    "range(set)\n",
    "(67021-48848)/67021\n",
    "(67021-48848)/57391.24242\n",
    "print(\"95th 64696.7\")\n",
    "(64696.7-48848)/64696.7"
   ]
  },
  {
   "cell_type": "code",
   "execution_count": 1,
   "metadata": {},
   "outputs": [
    {
     "ename": "ERROR",
     "evalue": "Error in data[0:0, ]: object of type 'closure' is not subsettable\n",
     "output_type": "error",
     "traceback": [
      "Error in data[0:0, ]: object of type 'closure' is not subsettable\nTraceback:\n"
     ]
    }
   ],
   "source": [
    "runs=10\n",
    "labeled=data[0:0,]\n",
    "InstanceId=sortedInstanceID\n",
    "n=length(InstanceId)\n",
    "for(i in InstanceId){\n",
    "    forthisInstance=data[data$instanceID==i,]\n",
    "    offset=which(InstanceId==i)-1\n",
    "    len=dim(forthisInstance)[1]/10\n",
    "    \n",
    "    for(j in 1:len){\n",
    "        x=(j-1)*runs+1\n",
    "        y=(j*runs)\n",
    "        \n",
    "        tmp=data.frame(forthisInstance[x:y,],'set'=j+offset,'vmID'=len)\n",
    "        \n",
    "        labeled<-rbind(labeled,tmp) \n",
    "        \n",
    "    }\n",
    "}\n",
    "\n"
   ]
  },
  {
   "cell_type": "markdown",
   "metadata": {},
   "source": [
    "# output labeled data"
   ]
  },
  {
   "cell_type": "code",
   "execution_count": null,
   "metadata": {},
   "outputs": [],
   "source": [
    "for(i in 16)"
   ]
  },
  {
   "cell_type": "code",
   "execution_count": 33,
   "metadata": {},
   "outputs": [],
   "source": [
    "write.csv(labeled[,1:7],\"./pgbench_1to16_labeled.csv\")"
   ]
  },
  {
   "cell_type": "code",
   "execution_count": null,
   "metadata": {},
   "outputs": [],
   "source": []
  }
 ],
 "metadata": {
  "kernelspec": {
   "display_name": "R",
   "language": "R",
   "name": "ir"
  },
  "language_info": {
   "codemirror_mode": "r",
   "file_extension": ".r",
   "mimetype": "text/x-r-source",
   "name": "R",
   "pygments_lexer": "r",
   "version": "3.4.2"
  }
 },
 "nbformat": 4,
 "nbformat_minor": 2
}
