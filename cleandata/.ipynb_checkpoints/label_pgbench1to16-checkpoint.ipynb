{
 "cells": [
  {
   "cell_type": "markdown",
   "metadata": {},
   "source": [
    "### import data"
   ]
  },
  {
   "cell_type": "code",
   "execution_count": 2,
   "metadata": {},
   "outputs": [
    {
     "ename": "ERROR",
     "evalue": "Error in read.table(\"./\", nrow = 1, stringsAsFactors = FALSE, sep = \",\"): no lines available in input\n",
     "output_type": "error",
     "traceback": [
      "Error in read.table(\"./\", nrow = 1, stringsAsFactors = FALSE, sep = \",\"): no lines available in input\nTraceback:\n",
      "1. read.table(\"./\", nrow = 1, stringsAsFactors = FALSE, sep = \",\")",
      "2. stop(\"no lines available in input\")"
     ]
    }
   ],
   "source": [
    "NAMES <- read.table(\"./pgbench_1to16.csv\", nrow = 1, stringsAsFactors = FALSE, sep = \",\")\n",
    "DATA <- read.table(\"././pgbench_1to16.csv\", skip = 1, stringsAsFactors = FALSE, sep = \",\")\n",
    "names(DATA) <- NAMES \n",
    "data=DATA[,c('instanceID','testStartTime','computationTime','benchmarkTime','wallTime')]\n"
   ]
  },
  {
   "cell_type": "markdown",
   "metadata": {},
   "source": [
    "### sort instanceID by overall comutationTime\n",
    "### cause we know that tasks on every VM are 10 runs apart"
   ]
  },
  {
   "cell_type": "code",
   "execution_count": 11,
   "metadata": {},
   "outputs": [
    {
     "data": {
      "text/html": [
       "<ol class=list-inline>\n",
       "\t<li>'i-0db07fe843fe06fd3'</li>\n",
       "\t<li>'i-0b6c44abce0aba12f'</li>\n",
       "\t<li>'i-0cb8daec26973a3ba'</li>\n",
       "\t<li>'i-01886a3f12158ce6d'</li>\n",
       "\t<li>'i-06e2008c3445830f2'</li>\n",
       "\t<li>'i-0befb2db20fb8cca4'</li>\n",
       "\t<li>'i-083a5fb2d2d70be24'</li>\n",
       "\t<li>'i-04063e414719fd2d1'</li>\n",
       "\t<li>'i-02c411a5c48ddbe7b'</li>\n",
       "\t<li>'i-09143d73c40348637'</li>\n",
       "\t<li>'i-0659afdbdf1beb11f'</li>\n",
       "\t<li>'i-015e6b43fd956f680'</li>\n",
       "\t<li>'i-02a1b30e5028ae59e'</li>\n",
       "\t<li>'i-0e1fece1d4d5568a2'</li>\n",
       "\t<li>'i-09e36e69592d6e88d'</li>\n",
       "\t<li>'i-01cec5413e74d451d'</li>\n",
       "</ol>\n"
      ],
      "text/latex": [
       "\\begin{enumerate*}\n",
       "\\item 'i-0db07fe843fe06fd3'\n",
       "\\item 'i-0b6c44abce0aba12f'\n",
       "\\item 'i-0cb8daec26973a3ba'\n",
       "\\item 'i-01886a3f12158ce6d'\n",
       "\\item 'i-06e2008c3445830f2'\n",
       "\\item 'i-0befb2db20fb8cca4'\n",
       "\\item 'i-083a5fb2d2d70be24'\n",
       "\\item 'i-04063e414719fd2d1'\n",
       "\\item 'i-02c411a5c48ddbe7b'\n",
       "\\item 'i-09143d73c40348637'\n",
       "\\item 'i-0659afdbdf1beb11f'\n",
       "\\item 'i-015e6b43fd956f680'\n",
       "\\item 'i-02a1b30e5028ae59e'\n",
       "\\item 'i-0e1fece1d4d5568a2'\n",
       "\\item 'i-09e36e69592d6e88d'\n",
       "\\item 'i-01cec5413e74d451d'\n",
       "\\end{enumerate*}\n"
      ],
      "text/markdown": [
       "1. 'i-0db07fe843fe06fd3'\n",
       "2. 'i-0b6c44abce0aba12f'\n",
       "3. 'i-0cb8daec26973a3ba'\n",
       "4. 'i-01886a3f12158ce6d'\n",
       "5. 'i-06e2008c3445830f2'\n",
       "6. 'i-0befb2db20fb8cca4'\n",
       "7. 'i-083a5fb2d2d70be24'\n",
       "8. 'i-04063e414719fd2d1'\n",
       "9. 'i-02c411a5c48ddbe7b'\n",
       "10. 'i-09143d73c40348637'\n",
       "11. 'i-0659afdbdf1beb11f'\n",
       "12. 'i-015e6b43fd956f680'\n",
       "13. 'i-02a1b30e5028ae59e'\n",
       "14. 'i-0e1fece1d4d5568a2'\n",
       "15. 'i-09e36e69592d6e88d'\n",
       "16. 'i-01cec5413e74d451d'\n",
       "\n",
       "\n"
      ],
      "text/plain": [
       " [1] \"i-0db07fe843fe06fd3\" \"i-0b6c44abce0aba12f\" \"i-0cb8daec26973a3ba\"\n",
       " [4] \"i-01886a3f12158ce6d\" \"i-06e2008c3445830f2\" \"i-0befb2db20fb8cca4\"\n",
       " [7] \"i-083a5fb2d2d70be24\" \"i-04063e414719fd2d1\" \"i-02c411a5c48ddbe7b\"\n",
       "[10] \"i-09143d73c40348637\" \"i-0659afdbdf1beb11f\" \"i-015e6b43fd956f680\"\n",
       "[13] \"i-02a1b30e5028ae59e\" \"i-0e1fece1d4d5568a2\" \"i-09e36e69592d6e88d\"\n",
       "[16] \"i-01cec5413e74d451d\""
      ]
     },
     "metadata": {},
     "output_type": "display_data"
    },
    {
     "data": {
      "text/html": [
       "<table>\n",
       "<thead><tr><th></th><th scope=col>instanceID</th><th scope=col>computationTime</th></tr></thead>\n",
       "<tbody>\n",
       "\t<tr><th scope=row>15</th><td>i-0db07fe843fe06fd3</td><td>1206.933           </td></tr>\n",
       "\t<tr><th scope=row>12</th><td>i-0b6c44abce0aba12f</td><td>1135.039           </td></tr>\n",
       "\t<tr><th scope=row>14</th><td>i-0cb8daec26973a3ba</td><td>1065.421           </td></tr>\n",
       "\t<tr><th scope=row>2</th><td>i-01886a3f12158ce6d</td><td> 960.206           </td></tr>\n",
       "\t<tr><th scope=row>8</th><td>i-06e2008c3445830f2</td><td> 914.865           </td></tr>\n",
       "\t<tr><th scope=row>13</th><td>i-0befb2db20fb8cca4</td><td> 841.997           </td></tr>\n",
       "\t<tr><th scope=row>9</th><td>i-083a5fb2d2d70be24</td><td> 768.086           </td></tr>\n",
       "\t<tr><th scope=row>6</th><td>i-04063e414719fd2d1</td><td> 697.237           </td></tr>\n",
       "\t<tr><th scope=row>5</th><td>i-02c411a5c48ddbe7b</td><td> 594.869           </td></tr>\n",
       "\t<tr><th scope=row>10</th><td>i-09143d73c40348637</td><td> 522.120           </td></tr>\n",
       "\t<tr><th scope=row>7</th><td>i-0659afdbdf1beb11f</td><td> 450.741           </td></tr>\n",
       "\t<tr><th scope=row>1</th><td>i-015e6b43fd956f680</td><td> 395.419           </td></tr>\n",
       "\t<tr><th scope=row>4</th><td>i-02a1b30e5028ae59e</td><td> 302.989           </td></tr>\n",
       "\t<tr><th scope=row>16</th><td>i-0e1fece1d4d5568a2</td><td> 229.048           </td></tr>\n",
       "\t<tr><th scope=row>11</th><td>i-09e36e69592d6e88d</td><td> 155.807           </td></tr>\n",
       "\t<tr><th scope=row>3</th><td>i-01cec5413e74d451d</td><td>  79.796           </td></tr>\n",
       "</tbody>\n",
       "</table>\n"
      ],
      "text/latex": [
       "\\begin{tabular}{r|ll}\n",
       "  & instanceID & computationTime\\\\\n",
       "\\hline\n",
       "\t15 & i-0db07fe843fe06fd3 & 1206.933           \\\\\n",
       "\t12 & i-0b6c44abce0aba12f & 1135.039           \\\\\n",
       "\t14 & i-0cb8daec26973a3ba & 1065.421           \\\\\n",
       "\t2 & i-01886a3f12158ce6d &  960.206           \\\\\n",
       "\t8 & i-06e2008c3445830f2 &  914.865           \\\\\n",
       "\t13 & i-0befb2db20fb8cca4 &  841.997           \\\\\n",
       "\t9 & i-083a5fb2d2d70be24 &  768.086           \\\\\n",
       "\t6 & i-04063e414719fd2d1 &  697.237           \\\\\n",
       "\t5 & i-02c411a5c48ddbe7b &  594.869           \\\\\n",
       "\t10 & i-09143d73c40348637 &  522.120           \\\\\n",
       "\t7 & i-0659afdbdf1beb11f &  450.741           \\\\\n",
       "\t1 & i-015e6b43fd956f680 &  395.419           \\\\\n",
       "\t4 & i-02a1b30e5028ae59e &  302.989           \\\\\n",
       "\t16 & i-0e1fece1d4d5568a2 &  229.048           \\\\\n",
       "\t11 & i-09e36e69592d6e88d &  155.807           \\\\\n",
       "\t3 & i-01cec5413e74d451d &   79.796           \\\\\n",
       "\\end{tabular}\n"
      ],
      "text/markdown": [
       "\n",
       "| <!--/--> | instanceID | computationTime | \n",
       "|---|---|---|---|---|---|---|---|---|---|---|---|---|---|---|---|\n",
       "| 15 | i-0db07fe843fe06fd3 | 1206.933            | \n",
       "| 12 | i-0b6c44abce0aba12f | 1135.039            | \n",
       "| 14 | i-0cb8daec26973a3ba | 1065.421            | \n",
       "| 2 | i-01886a3f12158ce6d |  960.206            | \n",
       "| 8 | i-06e2008c3445830f2 |  914.865            | \n",
       "| 13 | i-0befb2db20fb8cca4 |  841.997            | \n",
       "| 9 | i-083a5fb2d2d70be24 |  768.086            | \n",
       "| 6 | i-04063e414719fd2d1 |  697.237            | \n",
       "| 5 | i-02c411a5c48ddbe7b |  594.869            | \n",
       "| 10 | i-09143d73c40348637 |  522.120            | \n",
       "| 7 | i-0659afdbdf1beb11f |  450.741            | \n",
       "| 1 | i-015e6b43fd956f680 |  395.419            | \n",
       "| 4 | i-02a1b30e5028ae59e |  302.989            | \n",
       "| 16 | i-0e1fece1d4d5568a2 |  229.048            | \n",
       "| 11 | i-09e36e69592d6e88d |  155.807            | \n",
       "| 3 | i-01cec5413e74d451d |   79.796            | \n",
       "\n",
       "\n"
      ],
      "text/plain": [
       "   instanceID          computationTime\n",
       "15 i-0db07fe843fe06fd3 1206.933       \n",
       "12 i-0b6c44abce0aba12f 1135.039       \n",
       "14 i-0cb8daec26973a3ba 1065.421       \n",
       "2  i-01886a3f12158ce6d  960.206       \n",
       "8  i-06e2008c3445830f2  914.865       \n",
       "13 i-0befb2db20fb8cca4  841.997       \n",
       "9  i-083a5fb2d2d70be24  768.086       \n",
       "6  i-04063e414719fd2d1  697.237       \n",
       "5  i-02c411a5c48ddbe7b  594.869       \n",
       "10 i-09143d73c40348637  522.120       \n",
       "7  i-0659afdbdf1beb11f  450.741       \n",
       "1  i-015e6b43fd956f680  395.419       \n",
       "4  i-02a1b30e5028ae59e  302.989       \n",
       "16 i-0e1fece1d4d5568a2  229.048       \n",
       "11 i-09e36e69592d6e88d  155.807       \n",
       "3  i-01cec5413e74d451d   79.796       "
      ]
     },
     "metadata": {},
     "output_type": "display_data"
    }
   ],
   "source": [
    "sum=aggregate(x=data[\"computationTime\"],\n",
    "          by=list(instanceID=DATA$instanceID),\n",
    "          FUN=sum\n",
    "         )\n",
    "sorted=sum[order(sum$computationTime,decreasing=T),] \n",
    "sortedInstanceID=sorted$instanceID\n",
    "sortedInstanceID\n",
    "sorted"
   ]
  },
  {
   "cell_type": "markdown",
   "metadata": {},
   "source": [
    "### label 1st 10 runs on each VM as 'set 1'\n",
    "### then  2nd 10 runs as 'set 2' ... 16th 10 runs as 'set 10'\n",
    "### label the VM that only has 10 runs as 'VM 1' ... \n",
    "### which has 160runs is the 'VM 16'"
   ]
  },
  {
   "cell_type": "code",
   "execution_count": 1,
   "metadata": {},
   "outputs": [
    {
     "ename": "ERROR",
     "evalue": "Error in data[0:0, ]: object of type 'closure' is not subsettable\n",
     "output_type": "error",
     "traceback": [
      "Error in data[0:0, ]: object of type 'closure' is not subsettable\nTraceback:\n"
     ]
    }
   ],
   "source": [
    "runs=10\n",
    "labeled=data[0:0,]\n",
    "InstanceId=sortedInstanceID\n",
    "n=length(InstanceId)\n",
    "for(i in InstanceId){\n",
    "    forthisInstance=data[data$instanceID==i,]\n",
    "    offset=which(InstanceId==i)-1\n",
    "    len=dim(forthisInstance)[1]/10\n",
    "    \n",
    "    for(j in 1:len){\n",
    "        x=(j-1)*runs+1\n",
    "        y=(j*runs)\n",
    "        \n",
    "        tmp=data.frame(forthisInstance[x:y,],'set'=j+offset,'vmID'=len)\n",
    "        \n",
    "        labeled<-rbind(labeled,tmp) \n",
    "        \n",
    "    }\n",
    "}\n",
    "\n"
   ]
  },
  {
   "cell_type": "markdown",
   "metadata": {},
   "source": [
    "# output labeled data"
   ]
  },
  {
   "cell_type": "code",
   "execution_count": null,
   "metadata": {},
   "outputs": [],
   "source": [
    "for(i in 16)"
   ]
  },
  {
   "cell_type": "code",
   "execution_count": 33,
   "metadata": {},
   "outputs": [],
   "source": [
    "write.csv(labeled[,1:7],\"./pgbench_1to16_labeled.csv\")"
   ]
  },
  {
   "cell_type": "code",
   "execution_count": null,
   "metadata": {},
   "outputs": [],
   "source": []
  }
 ],
 "metadata": {
  "kernelspec": {
   "display_name": "R",
   "language": "R",
   "name": "ir"
  },
  "language_info": {
   "codemirror_mode": "r",
   "file_extension": ".r",
   "mimetype": "text/x-r-source",
   "name": "R",
   "pygments_lexer": "r",
   "version": "3.4.2"
  }
 },
 "nbformat": 4,
 "nbformat_minor": 2
}
