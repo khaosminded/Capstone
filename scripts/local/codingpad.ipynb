{
 "cells": [
  {
   "cell_type": "code",
   "execution_count": 55,
   "metadata": {},
   "outputs": [],
   "source": [
    "import sys\n",
    "import os\n",
    "import re\n",
    "import csv\n",
    "from datetime import datetime\n",
    "import time\n",
    "from dateutil.relativedelta import relativedelta as delta\n",
    "from shutil import copyfile\n"
   ]
  },
  {
   "cell_type": "code",
   "execution_count": 20,
   "metadata": {},
   "outputs": [
    {
     "data": {
      "text/plain": [
       "1538869496"
      ]
     },
     "execution_count": 20,
     "metadata": {},
     "output_type": "execute_result"
    }
   ],
   "source": [
    "int(datetime.timestamp(datetime.now()))"
   ]
  },
  {
   "cell_type": "code",
   "execution_count": 48,
   "metadata": {},
   "outputs": [
    {
     "name": "stdout",
     "output_type": "stream",
     "text": [
      "NameError catch\n"
     ]
    }
   ],
   "source": [
    "try:\n",
    "    print(a)\n",
    "except NameError:\n",
    "    print(\"NameError catch\")"
   ]
  },
  {
   "cell_type": "code",
   "execution_count": 50,
   "metadata": {},
   "outputs": [
    {
     "data": {
      "text/plain": [
       "(1, 3, 4, 5)"
      ]
     },
     "execution_count": 50,
     "metadata": {},
     "output_type": "execute_result"
    }
   ],
   "source": [
    "a = 1,3,4,5\n",
    "a"
   ]
  },
  {
   "cell_type": "code",
   "execution_count": 84,
   "metadata": {},
   "outputs": [
    {
     "ename": "IndexError",
     "evalue": "tuple index out of range",
     "output_type": "error",
     "traceback": [
      "\u001b[0;31m---------------------------------------------------------------------------\u001b[0m",
      "\u001b[0;31mIndexError\u001b[0m                                Traceback (most recent call last)",
      "\u001b[0;32m<ipython-input-84-5224ea7778e3>\u001b[0m in \u001b[0;36m<module>\u001b[0;34m()\u001b[0m\n\u001b[0;32m----> 1\u001b[0;31m \u001b[0ma\u001b[0m\u001b[0;34m[\u001b[0m\u001b[0;34m-\u001b[0m\u001b[0;36m9\u001b[0m\u001b[0;34m]\u001b[0m\u001b[0;34m\u001b[0m\u001b[0m\n\u001b[0m",
      "\u001b[0;31mIndexError\u001b[0m: tuple index out of range"
     ]
    }
   ],
   "source": [
    "a[-9]"
   ]
  },
  {
   "cell_type": "code",
   "execution_count": 83,
   "metadata": {},
   "outputs": [
    {
     "ename": "AttributeError",
     "evalue": "'NoneType' object has no attribute 'group'",
     "output_type": "error",
     "traceback": [
      "\u001b[0;31m---------------------------------------------------------------------------\u001b[0m",
      "\u001b[0;31mAttributeError\u001b[0m                            Traceback (most recent call last)",
      "\u001b[0;32m<ipython-input-83-837cca56045d>\u001b[0m in \u001b[0;36m<module>\u001b[0;34m()\u001b[0m\n\u001b[1;32m      4\u001b[0m \u001b[0;34m\u001b[0m\u001b[0m\n\u001b[1;32m      5\u001b[0m \u001b[0mobj\u001b[0m \u001b[0;34m=\u001b[0m \u001b[0mre\u001b[0m\u001b[0;34m.\u001b[0m\u001b[0msearch\u001b[0m\u001b[0;34m(\u001b[0m\u001b[0;34mr'-(.*?sec)\\s*(.*?Bytes)\\s*(.*?sc)'\u001b[0m\u001b[0;34m,\u001b[0m \u001b[0mresult\u001b[0m\u001b[0;34m)\u001b[0m\u001b[0;34m\u001b[0m\u001b[0m\n\u001b[0;32m----> 6\u001b[0;31m \u001b[0mprint\u001b[0m\u001b[0;34m(\u001b[0m\u001b[0mobj\u001b[0m\u001b[0;34m.\u001b[0m\u001b[0mgroup\u001b[0m\u001b[0;34m(\u001b[0m\u001b[0;36m1\u001b[0m\u001b[0;34m)\u001b[0m\u001b[0;34m)\u001b[0m\u001b[0;34m\u001b[0m\u001b[0m\n\u001b[0m\u001b[1;32m      7\u001b[0m \u001b[0mprint\u001b[0m\u001b[0;34m(\u001b[0m\u001b[0mobj\u001b[0m\u001b[0;34m.\u001b[0m\u001b[0mgroup\u001b[0m\u001b[0;34m(\u001b[0m\u001b[0;36m2\u001b[0m\u001b[0;34m)\u001b[0m\u001b[0;34m)\u001b[0m\u001b[0;34m\u001b[0m\u001b[0m\n\u001b[1;32m      8\u001b[0m \u001b[0mprint\u001b[0m\u001b[0;34m(\u001b[0m\u001b[0mobj\u001b[0m\u001b[0;34m.\u001b[0m\u001b[0mgroup\u001b[0m\u001b[0;34m(\u001b[0m\u001b[0;36m3\u001b[0m\u001b[0;34m)\u001b[0m\u001b[0;34m)\u001b[0m\u001b[0;34m\u001b[0m\u001b[0m\n",
      "\u001b[0;31mAttributeError\u001b[0m: 'NoneType' object has no attribute 'group'"
     ]
    }
   ],
   "source": [
    "result = '''[  3] local 172.31.14.181 port 44486 connected with 34.232.48.95 port 5001\n",
    "[ ID] Interval       Transfer     Bandwidth\n",
    "[  3]  0.0-61.0 sec  4.02 GBytes   566 Mbits/sec'''\n",
    "\n",
    "obj = re.search(r'-(.*?sec)\\s*(.*?Bytes)\\s*(.*?sc)', result)\n",
    "print(obj.group(1))\n",
    "print(obj.group(2))\n",
    "print(obj.group(3))"
   ]
  },
  {
   "cell_type": "code",
   "execution_count": 99,
   "metadata": {},
   "outputs": [
    {
     "name": "stdout",
     "output_type": "stream",
     "text": [
      "2\n"
     ]
    }
   ],
   "source": [
    "class Entry:\n",
    "    static_field = 0\n",
    "    def func1(self):\n",
    "        Entry.static_field = 1\n",
    "        return self\n",
    "    def func2(self):\n",
    "        Entry.static_field = 2\n",
    "        return self\n",
    "        return self\n",
    "\n",
    "entry = Entry()\n",
    "entry.func1().func2()\n",
    "print(Entry.static_field)"
   ]
  },
  {
   "cell_type": "code",
   "execution_count": 121,
   "metadata": {},
   "outputs": [
    {
     "name": "stdout",
     "output_type": "stream",
     "text": [
      "['[  5]  0.0-15.0 sec  1.01 GBytes   581 Mbits/sec', '[  4]  0.0-15.0 sec  1.01 GBytes   577 Mbits/sec']\n"
     ]
    }
   ],
   "source": [
    "import os\n",
    "import re\n",
    "import sys\n",
    "import csv\n",
    "import getopt\n",
    "\n",
    "from collections import OrderedDict\n",
    "\n",
    "class IperfEntry:\n",
    "    # like a static field in Java?\n",
    "    DATA_PATH = '/home/ubuntu/SCRIPT/scripts/remote/data/'\n",
    "\n",
    "    def __init__(self):\n",
    "\n",
    "        # table schema\n",
    "        self.row = OrderedDict([('instanceID', None), ('instanceType', None), ('experimentID', None), (\"interval\", None),\n",
    "                                (\"bandwidthUpload\", None), (\"bandwitdhDownload\", None), (\"setId\", None), (\"vmId\", None), (\"cmd\", None)])\n",
    "\n",
    "\n",
    "    def setBandwidthUpload(self, bandwidthUpload):\n",
    "        self.row[\"bandwidthUpload\"] = bandwidthUpload\n",
    "        return self\n",
    "\n",
    "    def setBandwitdhDownload(self, bandwitdhDownload):\n",
    "        self.row[\"bandwitdhDownload\"] = bandwitdhDownload\n",
    "        return self\n",
    "\n",
    "    def setSetId(self, setId):\n",
    "        self.row[\"setId\"] = setId\n",
    "        return self\n",
    "\n",
    "    def setVmId(self, vmId):\n",
    "        self.row[\"vmId\"] = vmId\n",
    "        return self\n",
    "\n",
    "    def setInterval(self, interval):\n",
    "        self.row[\"interval\"] = interval\n",
    "        return self\n",
    "\n",
    "def main():\n",
    "    result = '''\n",
    "    ------------------------------------------------------------\n",
    "Server listening on TCP port 5001\n",
    "TCP window size:  416 KByte\n",
    "------------------------------------------------------------\n",
    "------------------------------------------------------------\n",
    "Client connecting to 18.205.1.109, TCP port 5001\n",
    "TCP window size:  416 KByte\n",
    "------------------------------------------------------------\n",
    "[  5] local 172.31.8.48 port 56538 connected with 18.205.1.109 port 5001\n",
    "[  4] local 172.31.8.48 port 5001 connected with 18.205.1.109 port 58646\n",
    "[ ID] Interval       Transfer     Bandwidth\n",
    "[  5]  0.0-15.0 sec  1.01 GBytes   581 Mbits/sec\n",
    "[  4]  0.0-15.0 sec  1.01 GBytes   577 Mbits/sec\n",
    "    '''\n",
    "    \n",
    "    entry = IperfEntry()\n",
    "    result = result.strip().split('\\n')\n",
    "    result = result[-2:]\n",
    "    \n",
    "    upload = re.search(r'-(.*?sec)\\s*(.*?Bytes)\\s*(.*?sec)', result[0])\n",
    "    download = re.search(\n",
    "            r'-(.*?sec)\\s*(.*?Bytes)\\s*(.*?sec)', result[1])\n",
    "\n",
    "    print(result)\n",
    "\n",
    "\n",
    "main()"
   ]
  },
  {
   "cell_type": "code",
   "execution_count": null,
   "metadata": {},
   "outputs": [],
   "source": []
  }
 ],
 "metadata": {
  "kernelspec": {
   "display_name": "Python 3",
   "language": "python",
   "name": "python3"
  },
  "language_info": {
   "codemirror_mode": {
    "name": "ipython",
    "version": 3
   },
   "file_extension": ".py",
   "mimetype": "text/x-python",
   "name": "python",
   "nbconvert_exporter": "python",
   "pygments_lexer": "ipython3",
   "version": "3.6.3"
  }
 },
 "nbformat": 4,
 "nbformat_minor": 2
}
