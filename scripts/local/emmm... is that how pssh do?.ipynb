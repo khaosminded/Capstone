{
 "cells": [
  {
   "cell_type": "code",
   "execution_count": 2,
   "metadata": {},
   "outputs": [
    {
     "name": "stdout",
     "output_type": "stream",
     "text": [
      "scp -i as0.pem -r ubuntu@ec2-35-172-235-187.compute-1.amazonaws.com:~/SCRIPT/script/remote/data ../../cleandata/ubuntu@ec2-35-172-235-187.compute-1.amazonaws.com\n",
      "scp -i as0.pem -r ubuntu@ec2-34-201-25-96.compute-1.amazonaws.com:~/SCRIPT/script/remote/data ../../cleandata/ubuntu@ec2-34-201-25-96.compute-1.amazonaws.com\n",
      "scp -i as0.pem -r ubuntu@ec2-34-200-226-20.compute-1.amazonaws.com:~/SCRIPT/script/remote/data ../../cleandata/ubuntu@ec2-34-200-226-20.compute-1.amazonaws.com\n"
     ]
    }
   ],
   "source": [
    "import os\n",
    "with open('hostfile_pssh','r') as f:\n",
    "    hostlist=f.read()\n",
    "    hostlist=hostlist.strip().split('\\n')\n",
    "datadir=':~/SCRIPT/script/remote/data ../../cleandata/'\n",
    "command ='scp -i as0.pem -r '\n",
    "\n",
    "for host in hostlist:\n",
    "    wholecommand=command+host+datadir+host\n",
    "    #os.system(wholecommand)\n",
    "    print(wholecommand)"
   ]
  },
  {
   "cell_type": "code",
   "execution_count": null,
   "metadata": {},
   "outputs": [],
   "source": []
  }
 ],
 "metadata": {
  "kernelspec": {
   "display_name": "Python 3",
   "language": "python",
   "name": "python3"
  },
  "language_info": {
   "codemirror_mode": {
    "name": "ipython",
    "version": 3
   },
   "file_extension": ".py",
   "mimetype": "text/x-python",
   "name": "python",
   "nbconvert_exporter": "python",
   "pygments_lexer": "ipython3",
   "version": "3.6.3"
  }
 },
 "nbformat": 4,
 "nbformat_minor": 2
}
