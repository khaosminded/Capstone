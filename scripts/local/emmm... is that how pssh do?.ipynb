{
 "cells": [
  {
   "cell_type": "code",
   "execution_count": 2,
   "metadata": {
    "scrolled": true
   },
   "outputs": [
    {
     "name": "stdout",
     "output_type": "stream",
     "text": [
      "scp -i as0.pem -r ubuntu@ec2-35-172-235-187.compute-1.amazonaws.com:~/SCRIPT/script/remote/data ../../cleandata/ubuntu@ec2-35-172-235-187.compute-1.amazonaws.com\n",
      "scp -i as0.pem -r ubuntu@ec2-34-201-25-96.compute-1.amazonaws.com:~/SCRIPT/script/remote/data ../../cleandata/ubuntu@ec2-34-201-25-96.compute-1.amazonaws.com\n",
      "scp -i as0.pem -r ubuntu@ec2-34-200-226-20.compute-1.amazonaws.com:~/SCRIPT/script/remote/data ../../cleandata/ubuntu@ec2-34-200-226-20.compute-1.amazonaws.com\n"
     ]
    }
   ],
   "source": [
    "import os\n",
    "with open('hostfile_pssh','r') as f:\n",
    "    hostlist=f.read()\n",
    "    hostlist=hostlist.strip().split('\\n')\n",
    "datadir=':~/SCRIPT/script/remote/data ../../cleandata/'\n",
    "command ='scp -i as0.pem -r '\n",
    "\n",
    "for host in hostlist:\n",
    "    wholecommand=command+host+datadir+host\n",
    "    #os.system(wholecommand)\n",
    "    print(wholecommand)"
   ]
  },
  {
   "cell_type": "markdown",
   "metadata": {},
   "source": [
    "## get ip pool"
   ]
  },
  {
   "cell_type": "code",
   "execution_count": 17,
   "metadata": {},
   "outputs": [],
   "source": [
    "import os\n",
    "getPublicIp=r'aws ec2 describe-instances | grep PublicIpAddress | cut -d\":\" -f 2 | cut -d\",\" -f 1 | cut -d\"\\\"\" -f 2 '\n",
    "ipList=os.popen(getPublicIp).read()\n",
    "ipList=ipList.strip().split('\\n')\n",
    "with open('hostfile_pssh','w') as f:\n",
    "    for n in range(len(ipList)):\n",
    "        ipList[n]='ubuntu@'+ipList[n]+'\\n'\n",
    "        f.write(ipList[n])\n",
    "        \n"
   ]
  },
  {
   "cell_type": "code",
   "execution_count": 34,
   "metadata": {
    "scrolled": true
   },
   "outputs": [
    {
     "name": "stdout",
     "output_type": "stream",
     "text": [
      "\n",
      "set -f\n",
      "id=$(date -u +%s)\n",
      "_task='30 * * * * ubuntu python3  ~/SCRIPT/scripts/remote/run.py -c 10 -i '$id\n",
      "task=\\'$_task\\'\n",
      "psshcommand='ls && set -f && eval \"$(ssh-agent -s)\" && ssh-add -k ~/.ssh/git_capstone && rm -rf Capstone SCRIPT && git clone git@github.com:khaosminded/Capstone.git  && mv Capstone SCRIPT && cd ~/SCRIPT && cp /etc/crontab . && echo '$task' >> crontab && sudo mv crontab /etc/crontab && sudo chown root.root /etc/crontab && sudo service cron reload'\n",
      "pssh -i -h hostfile_pssh -x \"-i ~/.ssh/as0.pem\" $psshcommand\n",
      "\n",
      "[1] 01:21:06 [SUCCESS] ubuntu@34.230.15.164\n",
      "CPU_test\n",
      "LOG\n",
      "SCRIPT\n",
      "Agent pid 3401\n",
      " * Reloading configuration files for periodic command scheduler cron\n",
      "   ...done.\n",
      "Stderr: Identity added: /home/ubuntu/.ssh/git_capstone (/home/ubuntu/.ssh/git_capstone)\n",
      "Cloning into 'Capstone'...\n",
      "[2] 01:21:06 [SUCCESS] ubuntu@54.175.101.112\n",
      "CPU_test\n",
      "LOG\n",
      "SCRIPT\n",
      "Agent pid 3413\n",
      " * Reloading configuration files for periodic command scheduler cron\n",
      "   ...done.\n",
      "Stderr: Identity added: /home/ubuntu/.ssh/git_capstone (/home/ubuntu/.ssh/git_capstone)\n",
      "Cloning into 'Capstone'...\n",
      "[3] 01:21:06 [SUCCESS] ubuntu@52.91.255.147\n",
      "CPU_test\n",
      "LOG\n",
      "SCRIPT\n",
      "Agent pid 3055\n",
      " * Reloading configuration files for periodic command scheduler cron\n",
      "   ...done.\n",
      "Stderr: Identity added: /home/ubuntu/.ssh/git_capstone (/home/ubuntu/.ssh/git_capstone)\n",
      "Cloning into 'Capstone'...\n",
      "\n"
     ]
    }
   ],
   "source": [
    "import os\n",
    "getPublicIp=r'aws ec2 describe-instances | grep PublicIpAddress | cut -d\":\" -f 2 | cut -d\",\" -f 1 | cut -d\"\\\"\" -f 2 '\n",
    "ipList=os.popen(getPublicIp).read()\n",
    "ipList=ipList.strip().split('\\n')\n",
    "with open('hostfile_pssh','w') as f:\n",
    "    for n in range(len(ipList)):\n",
    "        ipList[n]='ubuntu@'+ipList[n]+'\\n'\n",
    "        f.write(ipList[n])\n",
    "\n",
    "shellscript=r'''\n",
    "set -f\n",
    "id=$(date -u +%s)\n",
    "_task='''+''''30 *'''+''' * * * ubuntu python3  ~/SCRIPT/scripts/remote/run.py -c 10 -i '$id\n",
    "task=\\\\'$_task\\\\'\n",
    "psshcommand='set -f && eval \"$(ssh-agent -s)\" && ssh-add -k ~/.ssh/git_capstone && rm -rf Capstone SCRIPT && git clone git@github.com:khaosminded/Capstone.git  && mv Capstone SCRIPT && cd ~/SCRIPT && cp /etc/crontab . && echo '$task' >> crontab && sudo mv crontab /etc/crontab && sudo chown root.root /etc/crontab && sudo service cron reload'\n",
    "pssh -i -h hostfile_pssh -x \"-i ~/.ssh/as0.pem\" $psshcommand\n",
    "'''\n",
    "print(shellscript)\n",
    "respond=os.popen(shellscript).read()\n",
    "print(respond)\n"
   ]
  },
  {
   "cell_type": "markdown",
   "metadata": {},
   "source": [
    "## trifle"
   ]
  },
  {
   "cell_type": "code",
   "execution_count": 38,
   "metadata": {},
   "outputs": [
    {
     "name": "stdout",
     "output_type": "stream",
     "text": [
      "the\n"
     ]
    }
   ],
   "source": [
    "if 4 not in range(24) or 73 not in range(60):\n",
    "    print('the')"
   ]
  },
  {
   "cell_type": "code",
   "execution_count": 56,
   "metadata": {},
   "outputs": [
    {
     "name": "stdout",
     "output_type": "stream",
     "text": [
      "time.struct_time(tm_year=2018, tm_mon=5, tm_mday=7, tm_hour=16, tm_min=2, tm_sec=42, tm_wday=0, tm_yday=127, tm_isdst=-1)\n",
      "16\n"
     ]
    }
   ],
   "source": [
    "import time\n",
    "\n",
    "t=time.time()\n",
    "ct = time.ctime(t)\n",
    "gmt = time.strptime(ct)\n",
    "print(gmt)\n",
    "print(gmt.tm_hour)"
   ]
  },
  {
   "cell_type": "code",
   "execution_count": 54,
   "metadata": {},
   "outputs": [
    {
     "name": "stdout",
     "output_type": "stream",
     "text": [
      "123\n",
      "123a\n"
     ]
    }
   ],
   "source": [
    "print(int('123'))\n",
    "print(str(123)+\"a\")"
   ]
  },
  {
   "cell_type": "code",
   "execution_count": 45,
   "metadata": {},
   "outputs": [
    {
     "name": "stdout",
     "output_type": "stream",
     "text": [
      "2018-05-08 00:07:35.087712\n",
      "2018-05-14 22:47:35.087712\n",
      "14\n"
     ]
    }
   ],
   "source": [
    "import datetime \n",
    "from dateutil.relativedelta import relativedelta\n",
    "utc_datetime = datetime.datetime.utcnow()\n",
    "\n",
    "result=utc_datetime\n",
    "result1=utc_datetime+relativedelta(minutes=10000)\n",
    "print(result)\n",
    "print(result1)\n",
    "print((result1.day))"
   ]
  },
  {
   "cell_type": "code",
   "execution_count": null,
   "metadata": {},
   "outputs": [],
   "source": []
  },
  {
   "cell_type": "code",
   "execution_count": null,
   "metadata": {},
   "outputs": [],
   "source": []
  }
 ],
 "metadata": {
  "kernelspec": {
   "display_name": "Python 3",
   "language": "python",
   "name": "python3"
  },
  "language_info": {
   "codemirror_mode": {
    "name": "ipython",
    "version": 3
   },
   "file_extension": ".py",
   "mimetype": "text/x-python",
   "name": "python",
   "nbconvert_exporter": "python",
   "pygments_lexer": "ipython3",
   "version": "3.6.3"
  }
 },
 "nbformat": 4,
 "nbformat_minor": 2
}
