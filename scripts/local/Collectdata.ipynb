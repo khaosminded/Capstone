{
 "cells": [
  {
   "cell_type": "markdown",
   "metadata": {},
   "source": [
    "## cd into each folder..."
   ]
  },
  {
   "cell_type": "code",
   "execution_count": 85,
   "metadata": {},
   "outputs": [],
   "source": [
    "import os\n",
    "import csv\n",
    "def collecter(filename):\n",
    "    a=os.popen('ls ../../cleandata/./').read()\n",
    "    a=a.strip().split('\\n')\n",
    "    needHeader=False\n",
    "    if not os.path.isfile('../../cleandata/data/'+filename):\n",
    "        needHeader=True\n",
    "        os.system('mkdir ../../cleandata/data')\n",
    "    f=open('../../cleandata/data/'+filename,'a')\n",
    "    writer=csv.writer(f)\n",
    "    for eachdir in a:\n",
    "        if 'ubuntu' in eachdir:\n",
    "            #print(eachdir)\n",
    "            path='../../cleandata/'+eachdir+'/'+filename\n",
    "            with open(path,'r') as f:\n",
    "                reader=csv.reader(f)\n",
    "                if needHeader is True:\n",
    "                    needHeader=False\n",
    "                    writer.writerow(next(reader))\n",
    "                else:\n",
    "                    next(reader)\n",
    "                for row in reader:\n",
    "                    writer.writerow(row)\n",
    "    f.close() \n",
    "    \n",
    "collecter('y_cruncher.csv')"
   ]
  },
  {
   "cell_type": "code",
   "execution_count": 87,
   "metadata": {},
   "outputs": [],
   "source": [
    "a=123"
   ]
  },
  {
   "cell_type": "code",
   "execution_count": 88,
   "metadata": {},
   "outputs": [
    {
     "name": "stdout",
     "output_type": "stream",
     "text": [
      "123\n"
     ]
    }
   ],
   "source": [
    "print(a)"
   ]
  },
  {
   "cell_type": "code",
   "execution_count": null,
   "metadata": {},
   "outputs": [],
   "source": []
  }
 ],
 "metadata": {
  "kernelspec": {
   "display_name": "Python 3",
   "language": "python",
   "name": "python3"
  },
  "language_info": {
   "codemirror_mode": {
    "name": "ipython",
    "version": 3
   },
   "file_extension": ".py",
   "mimetype": "text/x-python",
   "name": "python",
   "nbconvert_exporter": "python",
   "pygments_lexer": "ipython3",
   "version": "3.6.3"
  }
 },
 "nbformat": 4,
 "nbformat_minor": 2
}
