{
 "cells": [
  {
   "cell_type": "code",
   "execution_count": 20,
   "metadata": {},
   "outputs": [],
   "source": [
    "import os\n",
    "import sys\n",
    "import const\n",
    "import getopt\n",
    "def main(argv):\n",
    "\toptions=dict([('asdf','-nb')])\n",
    "\tID='0'\n",
    "\tcycle='10'\n",
    "\tbenchmark=\"default\"\n",
    "\ttry:\n",
    "\t\topts, args = getopt.getopt(argv,\"hc:i:t:\")\n",
    "\texcept getopt.GetoptError:\n",
    "\t\tprint('run.py -c <num of cycles> -i <exp_id> -t <exp_type>')\n",
    "\t\tsys.exit(2)\n",
    "\tfor opt, arg in opts:\n",
    "\t\tif opt == '-h':\n",
    "\t\t\tprint('test.py -c <how many cycles per experiment run>\\n\\\n",
    "\t\t\t -i <ID should be unique by each time we run.py but shared amoung all instances>\\n\\\n",
    "\t\t\t -t benchmark')\n",
    "\t\t\tsys.exit()\n",
    "\t\telif opt in (\"-i\"):\n",
    "\t\t\tID = arg\n",
    "\t\telif opt in (\"-c\"):\n",
    "\t\t\tcycle = arg\n",
    "\t\telif opt in (\"-t\"):\n",
    "\t\t\tprint(opt)\n",
    "\t#do experiment HERE!!!\n",
    "\t# e1=Experiment(const.y_cruncher,cycle,options,ID)\n",
    "\t# e1.run()\n",
    "\n",
    "\n",
    "\tprint(\"running \" + benchmark)\n",
    "\tprint(options.keys())"
   ]
  },
  {
   "cell_type": "code",
   "execution_count": 21,
   "metadata": {},
   "outputs": [
    {
     "name": "stdout",
     "output_type": "stream",
     "text": [
      "running default\n",
      "dict_keys(['asdf'])\n"
     ]
    }
   ],
   "source": [
    "main(\"-c 1 -i 0 -t 'asdf'\")\n"
   ]
  },
  {
   "cell_type": "code",
   "execution_count": null,
   "metadata": {},
   "outputs": [],
   "source": []
  }
 ],
 "metadata": {
  "kernelspec": {
   "display_name": "Python 3",
   "language": "python",
   "name": "python3"
  },
  "language_info": {
   "codemirror_mode": {
    "name": "ipython",
    "version": 3
   },
   "file_extension": ".py",
   "mimetype": "text/x-python",
   "name": "python",
   "nbconvert_exporter": "python",
   "pygments_lexer": "ipython3",
   "version": "3.6.3"
  }
 },
 "nbformat": 4,
 "nbformat_minor": 2
}
