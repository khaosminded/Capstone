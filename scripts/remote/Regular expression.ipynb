{
 "cells": [
  {
   "cell_type": "code",
   "execution_count": 3,
   "metadata": {},
   "outputs": [
    {
     "name": "stdout",
     "output_type": "stream",
     "text": [
      "i-0950bb61f032de690\n"
     ]
    }
   ],
   "source": [
    "import re\n",
    "str='''ami-id: ami-cd0f5cb6\n",
    "ami-launch-index: 0\n",
    "ami-manifest-path: (unknown)\n",
    "ancestor-ami-ids: unavailable\n",
    "availability-zone: us-east-1d\n",
    "block-device-mapping: ami\n",
    "root\n",
    "instance-action: none\n",
    "instance-id: i-0950bb61f032de690\n",
    "instance-type: t2.micro\n",
    "local-hostname: ip-172-31-26-103.ec2.internal\n",
    "local-ipv4: 172.31.26.103\n",
    "kernel-id: unavailable\n",
    "mac: unavailable\n",
    "profile: default-hvm\n",
    "product-codes: unavailable\n",
    "public-hostname: ec2-34-203-13-231.compute-1.amazonaws.com\n",
    "public-ipv4: 34.203.13.231\n",
    "public-keys: ['ssh-rsa AAAAB3NzaC1yc2EAAAADAQABAAABAQCFGNIASzVwCHlF4rqoQog9Q+ZMsEERc18ceQ5tT2y45l5ITQsqCEegSz6BKi8ESdO0U5l2UCoWcM6JfWeCfCJPkTgl5vvBI+9X9LYo5ismr7veiHvLmi6/Dk99/zZmvv6F17ZMNIB0wHX2CzLGIAai6bgqbahlnecXeUy6HkWQ0btkRX5/1XjRxgYtuM31Enb3GUpJ9Ta/faR7LuKeDKGLEbebCKAtZUFuGAb3McYbLIkUF8eIN3VaRZjU66sTj1tdJTMBvCsmwnVBvH8PqS0NJnu0LrJo1ki82uQKVBHxHl1Zs6grA46WK9lAykBg03PyajsAnYj+AWvNLhlS0hGP as0']\n",
    "ramdisk-id: unavailable\n",
    "reserveration-id: unavailable\n",
    "security-groups: default\n",
    "user-data: unavailable'''\n",
    "\n",
    "obj=re.search(r'instance-id: (.*)\\n',str)\n",
    "print(obj.group(1))"
   ]
  },
  {
   "cell_type": "code",
   "execution_count": null,
   "metadata": {},
   "outputs": [],
   "source": []
  }
 ],
 "metadata": {
  "kernelspec": {
   "display_name": "Python 3",
   "language": "python",
   "name": "python3"
  },
  "language_info": {
   "codemirror_mode": {
    "name": "ipython",
    "version": 3
   },
   "file_extension": ".py",
   "mimetype": "text/x-python",
   "name": "python",
   "nbconvert_exporter": "python",
   "pygments_lexer": "ipython3",
   "version": "3.6.3"
  }
 },
 "nbformat": 4,
 "nbformat_minor": 2
}
